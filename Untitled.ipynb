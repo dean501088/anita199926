{
 "cells": [
  {
   "cell_type": "markdown",
   "metadata": {},
   "source": [
    "# 台鐵台北車站環境之人因工程評估"
   ]
  },
  {
   "cell_type": "markdown",
   "metadata": {},
   "source": [
    "# 研究背景\n",
    "\n",
    "鐵路運輸是人們廣泛使用的交通工具，因此車站環境的人因工程考量尤為重要，不只關係到人們搭乘的體驗，也將涉及安全性層面。我們將從火車搭乘環境著手，進行人因工程的評估。"
   ]
  },
  {
   "cell_type": "markdown",
   "metadata": {},
   "source": [
    "# 研究方法\n",
    "\n",
    "* 問卷調查\n",
    "* 實地考察\n",
    "* 訊號顯示與控制評估\n",
    "* 相容性評估\n",
    "* 環境評估"
   ]
  },
  {
   "cell_type": "markdown",
   "metadata": {},
   "source": [
    "# 研究內容與討論\n",
    "\n",
    "\n",
    "\n",
    "### 票卡種類與進站方式\n",
    "1. 悠遊卡\n",
    "2. 超商票證\n",
    "3. 背磁式車票\n",
    "4. 智慧型手機\n",
    "\n",
    "#### 售票機\n",
    "\n",
    "1. 非對號列車售票機\n",
    "2. 對號列車售票機\n",
    "3. 人工售票亭窗口\n",
    "\n",
    "\n",
    "### 月台設施及標誌  \n",
    "1. 閘門\n",
    "2. 等候線\n",
    "3. 車廂編號\n",
    "4. 警告\n",
    "\n",
    "\n",
    "### 月台外標誌 \n",
    "\n",
    "1. 轉乘指示\n",
    "2. 警告\n",
    "3. 設施位置\n"
   ]
  }
 ],
 "metadata": {
  "kernelspec": {
   "display_name": "Python 3",
   "language": "python",
   "name": "python3"
  },
  "language_info": {
   "codemirror_mode": {
    "name": "ipython",
    "version": 3
   },
   "file_extension": ".py",
   "mimetype": "text/x-python",
   "name": "python",
   "nbconvert_exporter": "python",
   "pygments_lexer": "ipython3",
   "version": "3.6.4"
  }
 },
 "nbformat": 4,
 "nbformat_minor": 2
}
